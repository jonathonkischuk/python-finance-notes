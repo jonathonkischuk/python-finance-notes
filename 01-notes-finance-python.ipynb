{
 "cells": [
  {
   "cell_type": "code",
   "execution_count": 25,
   "id": "958f312d-ee26-4e2e-8fce-e185d1f0692c",
   "metadata": {
    "tags": []
   },
   "outputs": [],
   "source": [
    "import pandas as pd\n",
    "import scipy.stats"
   ]
  },
  {
   "cell_type": "code",
   "execution_count": 2,
   "id": "47d6cde7-9de1-4a56-9504-1bc5599f7b99",
   "metadata": {
    "tags": []
   },
   "outputs": [],
   "source": [
    "aapl = pd.read_csv('apple.csv', index_col=\"Date\")\n",
    "msft = pd.read_csv('msft.csv', index_col=\"Date\")"
   ]
  },
  {
   "cell_type": "code",
   "execution_count": 3,
   "id": "371d8a2c-d903-44de-9ecc-b87180823ce1",
   "metadata": {
    "tags": []
   },
   "outputs": [
    {
     "data": {
      "text/html": [
       "<div>\n",
       "<style scoped>\n",
       "    .dataframe tbody tr th:only-of-type {\n",
       "        vertical-align: middle;\n",
       "    }\n",
       "\n",
       "    .dataframe tbody tr th {\n",
       "        vertical-align: top;\n",
       "    }\n",
       "\n",
       "    .dataframe thead th {\n",
       "        text-align: right;\n",
       "    }\n",
       "</style>\n",
       "<table border=\"1\" class=\"dataframe\">\n",
       "  <thead>\n",
       "    <tr style=\"text-align: right;\">\n",
       "      <th></th>\n",
       "      <th>Open</th>\n",
       "      <th>High</th>\n",
       "      <th>Low</th>\n",
       "      <th>Close</th>\n",
       "      <th>Adj Close</th>\n",
       "      <th>Volume</th>\n",
       "    </tr>\n",
       "    <tr>\n",
       "      <th>Date</th>\n",
       "      <th></th>\n",
       "      <th></th>\n",
       "      <th></th>\n",
       "      <th></th>\n",
       "      <th></th>\n",
       "      <th></th>\n",
       "    </tr>\n",
       "  </thead>\n",
       "  <tbody>\n",
       "    <tr>\n",
       "      <th>2015-12-31</th>\n",
       "      <td>26.752501</td>\n",
       "      <td>26.757500</td>\n",
       "      <td>26.205000</td>\n",
       "      <td>26.315001</td>\n",
       "      <td>24.266081</td>\n",
       "      <td>163649200</td>\n",
       "    </tr>\n",
       "    <tr>\n",
       "      <th>2016-01-04</th>\n",
       "      <td>25.652500</td>\n",
       "      <td>26.342501</td>\n",
       "      <td>25.500000</td>\n",
       "      <td>26.337500</td>\n",
       "      <td>24.286833</td>\n",
       "      <td>270597600</td>\n",
       "    </tr>\n",
       "    <tr>\n",
       "      <th>2016-01-05</th>\n",
       "      <td>26.437500</td>\n",
       "      <td>26.462500</td>\n",
       "      <td>25.602501</td>\n",
       "      <td>25.677500</td>\n",
       "      <td>23.678219</td>\n",
       "      <td>223164000</td>\n",
       "    </tr>\n",
       "    <tr>\n",
       "      <th>2016-01-06</th>\n",
       "      <td>25.139999</td>\n",
       "      <td>25.592501</td>\n",
       "      <td>24.967501</td>\n",
       "      <td>25.174999</td>\n",
       "      <td>23.214844</td>\n",
       "      <td>273829600</td>\n",
       "    </tr>\n",
       "    <tr>\n",
       "      <th>2016-01-07</th>\n",
       "      <td>24.670000</td>\n",
       "      <td>25.032499</td>\n",
       "      <td>24.107500</td>\n",
       "      <td>24.112499</td>\n",
       "      <td>22.235069</td>\n",
       "      <td>324377600</td>\n",
       "    </tr>\n",
       "  </tbody>\n",
       "</table>\n",
       "</div>"
      ],
      "text/plain": [
       "                 Open       High        Low      Close  Adj Close     Volume\n",
       "Date                                                                        \n",
       "2015-12-31  26.752501  26.757500  26.205000  26.315001  24.266081  163649200\n",
       "2016-01-04  25.652500  26.342501  25.500000  26.337500  24.286833  270597600\n",
       "2016-01-05  26.437500  26.462500  25.602501  25.677500  23.678219  223164000\n",
       "2016-01-06  25.139999  25.592501  24.967501  25.174999  23.214844  273829600\n",
       "2016-01-07  24.670000  25.032499  24.107500  24.112499  22.235069  324377600"
      ]
     },
     "execution_count": 3,
     "metadata": {},
     "output_type": "execute_result"
    }
   ],
   "source": [
    "aapl.head()"
   ]
  },
  {
   "cell_type": "code",
   "execution_count": 4,
   "id": "ad16ee46-bb7b-405a-bd0c-dac77f3d59b9",
   "metadata": {
    "tags": []
   },
   "outputs": [
    {
     "data": {
      "text/html": [
       "<div>\n",
       "<style scoped>\n",
       "    .dataframe tbody tr th:only-of-type {\n",
       "        vertical-align: middle;\n",
       "    }\n",
       "\n",
       "    .dataframe tbody tr th {\n",
       "        vertical-align: top;\n",
       "    }\n",
       "\n",
       "    .dataframe thead th {\n",
       "        text-align: right;\n",
       "    }\n",
       "</style>\n",
       "<table border=\"1\" class=\"dataframe\">\n",
       "  <thead>\n",
       "    <tr style=\"text-align: right;\">\n",
       "      <th></th>\n",
       "      <th>Open</th>\n",
       "      <th>High</th>\n",
       "      <th>Low</th>\n",
       "      <th>Close</th>\n",
       "      <th>Adj Close</th>\n",
       "      <th>Volume</th>\n",
       "    </tr>\n",
       "    <tr>\n",
       "      <th>Date</th>\n",
       "      <th></th>\n",
       "      <th></th>\n",
       "      <th></th>\n",
       "      <th></th>\n",
       "      <th></th>\n",
       "      <th></th>\n",
       "    </tr>\n",
       "  </thead>\n",
       "  <tbody>\n",
       "    <tr>\n",
       "      <th>2015-12-31</th>\n",
       "      <td>56.040001</td>\n",
       "      <td>56.189999</td>\n",
       "      <td>55.419998</td>\n",
       "      <td>55.480000</td>\n",
       "      <td>50.298279</td>\n",
       "      <td>27334100</td>\n",
       "    </tr>\n",
       "    <tr>\n",
       "      <th>2016-01-04</th>\n",
       "      <td>54.320000</td>\n",
       "      <td>54.799999</td>\n",
       "      <td>53.389999</td>\n",
       "      <td>54.799999</td>\n",
       "      <td>49.681782</td>\n",
       "      <td>53778000</td>\n",
       "    </tr>\n",
       "    <tr>\n",
       "      <th>2016-01-05</th>\n",
       "      <td>54.930000</td>\n",
       "      <td>55.389999</td>\n",
       "      <td>54.540001</td>\n",
       "      <td>55.049999</td>\n",
       "      <td>49.908432</td>\n",
       "      <td>34079700</td>\n",
       "    </tr>\n",
       "    <tr>\n",
       "      <th>2016-01-06</th>\n",
       "      <td>54.320000</td>\n",
       "      <td>54.400002</td>\n",
       "      <td>53.639999</td>\n",
       "      <td>54.049999</td>\n",
       "      <td>49.001839</td>\n",
       "      <td>39518900</td>\n",
       "    </tr>\n",
       "    <tr>\n",
       "      <th>2016-01-07</th>\n",
       "      <td>52.700001</td>\n",
       "      <td>53.490002</td>\n",
       "      <td>52.070000</td>\n",
       "      <td>52.169998</td>\n",
       "      <td>47.297417</td>\n",
       "      <td>56564900</td>\n",
       "    </tr>\n",
       "  </tbody>\n",
       "</table>\n",
       "</div>"
      ],
      "text/plain": [
       "                 Open       High        Low      Close  Adj Close    Volume\n",
       "Date                                                                       \n",
       "2015-12-31  56.040001  56.189999  55.419998  55.480000  50.298279  27334100\n",
       "2016-01-04  54.320000  54.799999  53.389999  54.799999  49.681782  53778000\n",
       "2016-01-05  54.930000  55.389999  54.540001  55.049999  49.908432  34079700\n",
       "2016-01-06  54.320000  54.400002  53.639999  54.049999  49.001839  39518900\n",
       "2016-01-07  52.700001  53.490002  52.070000  52.169998  47.297417  56564900"
      ]
     },
     "execution_count": 4,
     "metadata": {},
     "output_type": "execute_result"
    }
   ],
   "source": [
    "msft.head()"
   ]
  },
  {
   "cell_type": "code",
   "execution_count": 11,
   "id": "4cd1d13b-accf-48cc-a155-76e5e7516415",
   "metadata": {
    "tags": []
   },
   "outputs": [],
   "source": [
    "aapl['Daily Return'] = aapl['Adj Close'].pct_change(1)\n",
    "msft['Daily Return'] = msft['Adj Close'].pct_change(1)"
   ]
  },
  {
   "cell_type": "code",
   "execution_count": 6,
   "id": "6954e516-40f2-45ef-b8c6-7a3245af605c",
   "metadata": {
    "tags": []
   },
   "outputs": [
    {
     "data": {
      "text/html": [
       "<div>\n",
       "<style scoped>\n",
       "    .dataframe tbody tr th:only-of-type {\n",
       "        vertical-align: middle;\n",
       "    }\n",
       "\n",
       "    .dataframe tbody tr th {\n",
       "        vertical-align: top;\n",
       "    }\n",
       "\n",
       "    .dataframe thead th {\n",
       "        text-align: right;\n",
       "    }\n",
       "</style>\n",
       "<table border=\"1\" class=\"dataframe\">\n",
       "  <thead>\n",
       "    <tr style=\"text-align: right;\">\n",
       "      <th></th>\n",
       "      <th>Open</th>\n",
       "      <th>High</th>\n",
       "      <th>Low</th>\n",
       "      <th>Close</th>\n",
       "      <th>Adj Close</th>\n",
       "      <th>Volume</th>\n",
       "      <th>Daily Returns</th>\n",
       "    </tr>\n",
       "    <tr>\n",
       "      <th>Date</th>\n",
       "      <th></th>\n",
       "      <th></th>\n",
       "      <th></th>\n",
       "      <th></th>\n",
       "      <th></th>\n",
       "      <th></th>\n",
       "      <th></th>\n",
       "    </tr>\n",
       "  </thead>\n",
       "  <tbody>\n",
       "    <tr>\n",
       "      <th>2015-12-31</th>\n",
       "      <td>26.752501</td>\n",
       "      <td>26.757500</td>\n",
       "      <td>26.205000</td>\n",
       "      <td>26.315001</td>\n",
       "      <td>24.266081</td>\n",
       "      <td>163649200</td>\n",
       "      <td>NaN</td>\n",
       "    </tr>\n",
       "    <tr>\n",
       "      <th>2016-01-04</th>\n",
       "      <td>25.652500</td>\n",
       "      <td>26.342501</td>\n",
       "      <td>25.500000</td>\n",
       "      <td>26.337500</td>\n",
       "      <td>24.286833</td>\n",
       "      <td>270597600</td>\n",
       "      <td>0.000855</td>\n",
       "    </tr>\n",
       "    <tr>\n",
       "      <th>2016-01-05</th>\n",
       "      <td>26.437500</td>\n",
       "      <td>26.462500</td>\n",
       "      <td>25.602501</td>\n",
       "      <td>25.677500</td>\n",
       "      <td>23.678219</td>\n",
       "      <td>223164000</td>\n",
       "      <td>-0.025059</td>\n",
       "    </tr>\n",
       "    <tr>\n",
       "      <th>2016-01-06</th>\n",
       "      <td>25.139999</td>\n",
       "      <td>25.592501</td>\n",
       "      <td>24.967501</td>\n",
       "      <td>25.174999</td>\n",
       "      <td>23.214844</td>\n",
       "      <td>273829600</td>\n",
       "      <td>-0.019570</td>\n",
       "    </tr>\n",
       "    <tr>\n",
       "      <th>2016-01-07</th>\n",
       "      <td>24.670000</td>\n",
       "      <td>25.032499</td>\n",
       "      <td>24.107500</td>\n",
       "      <td>24.112499</td>\n",
       "      <td>22.235069</td>\n",
       "      <td>324377600</td>\n",
       "      <td>-0.042205</td>\n",
       "    </tr>\n",
       "  </tbody>\n",
       "</table>\n",
       "</div>"
      ],
      "text/plain": [
       "                 Open       High        Low      Close  Adj Close     Volume  \\\n",
       "Date                                                                           \n",
       "2015-12-31  26.752501  26.757500  26.205000  26.315001  24.266081  163649200   \n",
       "2016-01-04  25.652500  26.342501  25.500000  26.337500  24.286833  270597600   \n",
       "2016-01-05  26.437500  26.462500  25.602501  25.677500  23.678219  223164000   \n",
       "2016-01-06  25.139999  25.592501  24.967501  25.174999  23.214844  273829600   \n",
       "2016-01-07  24.670000  25.032499  24.107500  24.112499  22.235069  324377600   \n",
       "\n",
       "            Daily Returns  \n",
       "Date                       \n",
       "2015-12-31            NaN  \n",
       "2016-01-04       0.000855  \n",
       "2016-01-05      -0.025059  \n",
       "2016-01-06      -0.019570  \n",
       "2016-01-07      -0.042205  "
      ]
     },
     "execution_count": 6,
     "metadata": {},
     "output_type": "execute_result"
    }
   ],
   "source": [
    "aapl.head()"
   ]
  },
  {
   "cell_type": "code",
   "execution_count": 7,
   "id": "b1c4743f-decc-4472-9b52-a553616136b1",
   "metadata": {
    "tags": []
   },
   "outputs": [
    {
     "data": {
      "text/html": [
       "<div>\n",
       "<style scoped>\n",
       "    .dataframe tbody tr th:only-of-type {\n",
       "        vertical-align: middle;\n",
       "    }\n",
       "\n",
       "    .dataframe tbody tr th {\n",
       "        vertical-align: top;\n",
       "    }\n",
       "\n",
       "    .dataframe thead th {\n",
       "        text-align: right;\n",
       "    }\n",
       "</style>\n",
       "<table border=\"1\" class=\"dataframe\">\n",
       "  <thead>\n",
       "    <tr style=\"text-align: right;\">\n",
       "      <th></th>\n",
       "      <th>Open</th>\n",
       "      <th>High</th>\n",
       "      <th>Low</th>\n",
       "      <th>Close</th>\n",
       "      <th>Adj Close</th>\n",
       "      <th>Volume</th>\n",
       "      <th>Daily Returns</th>\n",
       "    </tr>\n",
       "    <tr>\n",
       "      <th>Date</th>\n",
       "      <th></th>\n",
       "      <th></th>\n",
       "      <th></th>\n",
       "      <th></th>\n",
       "      <th></th>\n",
       "      <th></th>\n",
       "      <th></th>\n",
       "    </tr>\n",
       "  </thead>\n",
       "  <tbody>\n",
       "    <tr>\n",
       "      <th>2015-12-31</th>\n",
       "      <td>56.040001</td>\n",
       "      <td>56.189999</td>\n",
       "      <td>55.419998</td>\n",
       "      <td>55.480000</td>\n",
       "      <td>50.298279</td>\n",
       "      <td>27334100</td>\n",
       "      <td>NaN</td>\n",
       "    </tr>\n",
       "    <tr>\n",
       "      <th>2016-01-04</th>\n",
       "      <td>54.320000</td>\n",
       "      <td>54.799999</td>\n",
       "      <td>53.389999</td>\n",
       "      <td>54.799999</td>\n",
       "      <td>49.681782</td>\n",
       "      <td>53778000</td>\n",
       "      <td>-0.012257</td>\n",
       "    </tr>\n",
       "    <tr>\n",
       "      <th>2016-01-05</th>\n",
       "      <td>54.930000</td>\n",
       "      <td>55.389999</td>\n",
       "      <td>54.540001</td>\n",
       "      <td>55.049999</td>\n",
       "      <td>49.908432</td>\n",
       "      <td>34079700</td>\n",
       "      <td>0.004562</td>\n",
       "    </tr>\n",
       "    <tr>\n",
       "      <th>2016-01-06</th>\n",
       "      <td>54.320000</td>\n",
       "      <td>54.400002</td>\n",
       "      <td>53.639999</td>\n",
       "      <td>54.049999</td>\n",
       "      <td>49.001839</td>\n",
       "      <td>39518900</td>\n",
       "      <td>-0.018165</td>\n",
       "    </tr>\n",
       "    <tr>\n",
       "      <th>2016-01-07</th>\n",
       "      <td>52.700001</td>\n",
       "      <td>53.490002</td>\n",
       "      <td>52.070000</td>\n",
       "      <td>52.169998</td>\n",
       "      <td>47.297417</td>\n",
       "      <td>56564900</td>\n",
       "      <td>-0.034783</td>\n",
       "    </tr>\n",
       "  </tbody>\n",
       "</table>\n",
       "</div>"
      ],
      "text/plain": [
       "                 Open       High        Low      Close  Adj Close    Volume  \\\n",
       "Date                                                                          \n",
       "2015-12-31  56.040001  56.189999  55.419998  55.480000  50.298279  27334100   \n",
       "2016-01-04  54.320000  54.799999  53.389999  54.799999  49.681782  53778000   \n",
       "2016-01-05  54.930000  55.389999  54.540001  55.049999  49.908432  34079700   \n",
       "2016-01-06  54.320000  54.400002  53.639999  54.049999  49.001839  39518900   \n",
       "2016-01-07  52.700001  53.490002  52.070000  52.169998  47.297417  56564900   \n",
       "\n",
       "            Daily Returns  \n",
       "Date                       \n",
       "2015-12-31            NaN  \n",
       "2016-01-04      -0.012257  \n",
       "2016-01-05       0.004562  \n",
       "2016-01-06      -0.018165  \n",
       "2016-01-07      -0.034783  "
      ]
     },
     "execution_count": 7,
     "metadata": {},
     "output_type": "execute_result"
    }
   ],
   "source": [
    "msft.head()"
   ]
  },
  {
   "cell_type": "code",
   "execution_count": 8,
   "id": "a2602b1e-fcf1-45d2-85b4-f49527349256",
   "metadata": {
    "tags": []
   },
   "outputs": [],
   "source": [
    "aapl = aapl.dropna()\n",
    "msft = msft.dropna()"
   ]
  },
  {
   "cell_type": "code",
   "execution_count": 12,
   "id": "54243a7c-f17c-40e7-a13d-56c97b4e14b4",
   "metadata": {
    "tags": []
   },
   "outputs": [
    {
     "data": {
      "text/plain": [
       "(0.018706576706010603, 0.017016618889198077)"
      ]
     },
     "execution_count": 12,
     "metadata": {},
     "output_type": "execute_result"
    }
   ],
   "source": [
    "aapl['Daily Return'].std(), msft['Daily Return'].std()"
   ]
  },
  {
   "cell_type": "code",
   "execution_count": 26,
   "id": "4a113f3b-9f9a-45f9-b545-c0ab4cf218ce",
   "metadata": {
    "tags": []
   },
   "outputs": [],
   "source": [
    "def compute_sharpe_ratio(data, risk_free_rate = 0):\n",
    "    mean_return = data['Daily Return'].mean()\n",
    "    std = data['Daily Return'].std()\n",
    "    sharpe_ratio = (mean_return - risk_free_rate) / std\n",
    "    return sharpe_ratio"
   ]
  },
  {
   "cell_type": "code",
   "execution_count": 27,
   "id": "49c238d1-37be-4839-9448-ac51fb7441aa",
   "metadata": {
    "tags": []
   },
   "outputs": [],
   "source": [
    "def compute_annual_sharpe_ratio(data, risk_free_rate = 0):\n",
    "    mean_return = data['Daily Return'].mean()\n",
    "    std = data['Daily Return'].std()\n",
    "    sharpe_ratio = (mean_return - risk_free_rate) / std\n",
    "    return sharpe_ratio * (252 ** 0.5)"
   ]
  },
  {
   "cell_type": "code",
   "execution_count": 28,
   "id": "fb311560-2e40-4e84-bd56-d5e0484d7b93",
   "metadata": {
    "tags": []
   },
   "outputs": [
    {
     "name": "stdout",
     "output_type": "stream",
     "text": [
      "The yearly sharpe ratio for APPLE is 1.2294446751024868 and 1.3140353810669951 for MICROSOFT\n"
     ]
    }
   ],
   "source": [
    "sr_aapl = compute_annual_sharpe_ratio(aapl)\n",
    "sr_msft = compute_annual_sharpe_ratio(msft)\n",
    "\n",
    "print(f\"The yearly sharpe ratio for APPLE is {sr_aapl} and {sr_msft} for MICROSOFT\")"
   ]
  },
  {
   "cell_type": "code",
   "execution_count": 19,
   "id": "2b1ea2a6-b5c9-4fdb-b37f-13111b31a86a",
   "metadata": {
    "tags": []
   },
   "outputs": [],
   "source": [
    "def compute_sortino_ratio(data, target, risk_free_rate=0):\n",
    "    mean_return = data['Daily Return'].mean()\n",
    "    downside = data[data['Daily Return'] < target]['Daily Return']\n",
    "    std = downside.std()\n",
    "    sortino_ratio = (mean_return - risk_free_rate) / std\n",
    "    return sortino_ratio"
   ]
  },
  {
   "cell_type": "code",
   "execution_count": 21,
   "id": "3e4fc4e5-c887-440b-8846-84668af1e9e4",
   "metadata": {
    "tags": []
   },
   "outputs": [
    {
     "name": "stdout",
     "output_type": "stream",
     "text": [
      "The daily sortino ratio for APPLE is 0.1016753817432765 and 0.10743159493614032 for MICROSOFT\n"
     ]
    }
   ],
   "source": [
    "sor_aapl = compute_sortino_ratio(aapl, target=0)\n",
    "sor_msft = compute_sortino_ratio(msft, target=0)\n",
    "\n",
    "print(f\"The daily sortino ratio for APPLE is {sor_aapl} and {sor_msft} for MICROSOFT\")"
   ]
  },
  {
   "cell_type": "code",
   "execution_count": 24,
   "id": "f39364e2-c486-44d7-86f9-caf0080900cb",
   "metadata": {
    "tags": []
   },
   "outputs": [
    {
     "name": "stdout",
     "output_type": "stream",
     "text": [
      "The yearly sortino ratio for APPLE is 1.6140466473015993 and 1.70542369891232 for MICROSOFT\n"
     ]
    }
   ],
   "source": [
    "annual_sor_aapl = (252 ** 0.5) * sor_aapl\n",
    "annual_sor_msft = (252 ** 0.5) * sor_msft\n",
    "\n",
    "print(f\"The yearly sortino ratio for APPLE is {annual_sor_aapl} and {annual_sor_msft} for MICROSOFT\")"
   ]
  },
  {
   "cell_type": "code",
   "execution_count": 29,
   "id": "ebe1e2ed-e5e0-41a9-831c-ea025aec7d32",
   "metadata": {
    "tags": []
   },
   "outputs": [],
   "source": [
    "def compute_prob_sharpe_ratio(data, benchmark = 0):\n",
    "    sr = compute_sharpe_ratio(data, 0)\n",
    "    skew = scipy.stats.skew(data['Daily Returns'])\n",
    "    kurtosis = scipy.stats.kurtosis(data['Daily Returns'], fisher=True)\n",
    "    \n",
    "    n = len(data)\n",
    "    std = ( (1 / (n-1)) * (1 + 0.5 * sr**2 - skew * sr + (kurtosis / 4) * sr**2)) ** 0.5\n",
    "\n",
    "    ratio = (sr - benchmark) / std\n",
    "    prob_sharpe_ratio = scipy.stats.norm.cdf(ratio)\n",
    "    return prob_sharpe_ratio"
   ]
  },
  {
   "cell_type": "code",
   "execution_count": 30,
   "id": "369d0b8e-e786-499c-81cc-6241b52e10f4",
   "metadata": {
    "tags": []
   },
   "outputs": [
    {
     "name": "stdout",
     "output_type": "stream",
     "text": [
      "The daily probabilistic sharpe ratio for APPLE is 0.9980870592247423 and 0.9989846295493375 for MICROSOFT\n"
     ]
    }
   ],
   "source": [
    "sr_aapl = compute_prob_sharpe_ratio(aapl)\n",
    "sr_msft = compute_prob_sharpe_ratio(msft)\n",
    "\n",
    "print(f\"The daily probabilistic sharpe ratio for APPLE is {sr_aapl} and {sr_msft} for MICROSOFT\")"
   ]
  },
  {
   "cell_type": "code",
   "execution_count": 31,
   "id": "69113448-855c-4e7c-818a-e3470b64bf1b",
   "metadata": {
    "tags": []
   },
   "outputs": [
    {
     "name": "stdout",
     "output_type": "stream",
     "text": [
      "The annual probabilistic sharpe ratio for APPLE is 15.844140873002782 and 15.858389360181205 for MICROSOFT\n"
     ]
    }
   ],
   "source": [
    "annual_sr_aapl = sr_aapl * (252 ** 0.5)\n",
    "annual_sr_msft = sr_msft * (252 ** 0.5)\n",
    "\n",
    "print(f\"The annual probabilistic sharpe ratio for APPLE is {annual_sr_aapl} and {annual_sr_msft} for MICROSOFT\")"
   ]
  },
  {
   "cell_type": "code",
   "execution_count": null,
   "id": "9cb76923-ed8f-4702-973b-273863d5c936",
   "metadata": {},
   "outputs": [],
   "source": []
  }
 ],
 "metadata": {
  "kernelspec": {
   "display_name": "Python 3 (ipykernel)",
   "language": "python",
   "name": "python3"
  },
  "language_info": {
   "codemirror_mode": {
    "name": "ipython",
    "version": 3
   },
   "file_extension": ".py",
   "mimetype": "text/x-python",
   "name": "python",
   "nbconvert_exporter": "python",
   "pygments_lexer": "ipython3",
   "version": "3.11.4"
  }
 },
 "nbformat": 4,
 "nbformat_minor": 5
}
